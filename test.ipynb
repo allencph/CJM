{
 "cells": [
  {
   "cell_type": "code",
   "execution_count": 15,
   "metadata": {},
   "outputs": [
    {
     "data": {
      "application/vnd.plotly.v1+json": {
       "config": {
        "plotlyServerURL": "https://plot.ly"
       },
       "data": [
        {
         "link": {
          "source": [
           0,
           3,
           2,
           3,
           0,
           1,
           1
          ],
          "target": [
           3,
           1,
           1,
           2,
           2,
           2,
           3
          ],
          "value": [
           3,
           2,
           1,
           1,
           1,
           1,
           1
          ]
         },
         "node": {
          "label": [
           "畢業",
           "辦卡",
           "上班",
           "出國"
          ],
          "line": {
           "color": "black",
           "width": 0.5
          },
          "pad": 15,
          "thickness": 20
         },
         "type": "sankey"
        }
       ],
       "layout": {
        "font": {
         "size": 10
        },
        "template": {
         "data": {
          "bar": [
           {
            "error_x": {
             "color": "#2a3f5f"
            },
            "error_y": {
             "color": "#2a3f5f"
            },
            "marker": {
             "line": {
              "color": "#E5ECF6",
              "width": 0.5
             },
             "pattern": {
              "fillmode": "overlay",
              "size": 10,
              "solidity": 0.2
             }
            },
            "type": "bar"
           }
          ],
          "barpolar": [
           {
            "marker": {
             "line": {
              "color": "#E5ECF6",
              "width": 0.5
             },
             "pattern": {
              "fillmode": "overlay",
              "size": 10,
              "solidity": 0.2
             }
            },
            "type": "barpolar"
           }
          ],
          "carpet": [
           {
            "aaxis": {
             "endlinecolor": "#2a3f5f",
             "gridcolor": "white",
             "linecolor": "white",
             "minorgridcolor": "white",
             "startlinecolor": "#2a3f5f"
            },
            "baxis": {
             "endlinecolor": "#2a3f5f",
             "gridcolor": "white",
             "linecolor": "white",
             "minorgridcolor": "white",
             "startlinecolor": "#2a3f5f"
            },
            "type": "carpet"
           }
          ],
          "choropleth": [
           {
            "colorbar": {
             "outlinewidth": 0,
             "ticks": ""
            },
            "type": "choropleth"
           }
          ],
          "contour": [
           {
            "colorbar": {
             "outlinewidth": 0,
             "ticks": ""
            },
            "colorscale": [
             [
              0,
              "#0d0887"
             ],
             [
              0.1111111111111111,
              "#46039f"
             ],
             [
              0.2222222222222222,
              "#7201a8"
             ],
             [
              0.3333333333333333,
              "#9c179e"
             ],
             [
              0.4444444444444444,
              "#bd3786"
             ],
             [
              0.5555555555555556,
              "#d8576b"
             ],
             [
              0.6666666666666666,
              "#ed7953"
             ],
             [
              0.7777777777777778,
              "#fb9f3a"
             ],
             [
              0.8888888888888888,
              "#fdca26"
             ],
             [
              1,
              "#f0f921"
             ]
            ],
            "type": "contour"
           }
          ],
          "contourcarpet": [
           {
            "colorbar": {
             "outlinewidth": 0,
             "ticks": ""
            },
            "type": "contourcarpet"
           }
          ],
          "heatmap": [
           {
            "colorbar": {
             "outlinewidth": 0,
             "ticks": ""
            },
            "colorscale": [
             [
              0,
              "#0d0887"
             ],
             [
              0.1111111111111111,
              "#46039f"
             ],
             [
              0.2222222222222222,
              "#7201a8"
             ],
             [
              0.3333333333333333,
              "#9c179e"
             ],
             [
              0.4444444444444444,
              "#bd3786"
             ],
             [
              0.5555555555555556,
              "#d8576b"
             ],
             [
              0.6666666666666666,
              "#ed7953"
             ],
             [
              0.7777777777777778,
              "#fb9f3a"
             ],
             [
              0.8888888888888888,
              "#fdca26"
             ],
             [
              1,
              "#f0f921"
             ]
            ],
            "type": "heatmap"
           }
          ],
          "heatmapgl": [
           {
            "colorbar": {
             "outlinewidth": 0,
             "ticks": ""
            },
            "colorscale": [
             [
              0,
              "#0d0887"
             ],
             [
              0.1111111111111111,
              "#46039f"
             ],
             [
              0.2222222222222222,
              "#7201a8"
             ],
             [
              0.3333333333333333,
              "#9c179e"
             ],
             [
              0.4444444444444444,
              "#bd3786"
             ],
             [
              0.5555555555555556,
              "#d8576b"
             ],
             [
              0.6666666666666666,
              "#ed7953"
             ],
             [
              0.7777777777777778,
              "#fb9f3a"
             ],
             [
              0.8888888888888888,
              "#fdca26"
             ],
             [
              1,
              "#f0f921"
             ]
            ],
            "type": "heatmapgl"
           }
          ],
          "histogram": [
           {
            "marker": {
             "pattern": {
              "fillmode": "overlay",
              "size": 10,
              "solidity": 0.2
             }
            },
            "type": "histogram"
           }
          ],
          "histogram2d": [
           {
            "colorbar": {
             "outlinewidth": 0,
             "ticks": ""
            },
            "colorscale": [
             [
              0,
              "#0d0887"
             ],
             [
              0.1111111111111111,
              "#46039f"
             ],
             [
              0.2222222222222222,
              "#7201a8"
             ],
             [
              0.3333333333333333,
              "#9c179e"
             ],
             [
              0.4444444444444444,
              "#bd3786"
             ],
             [
              0.5555555555555556,
              "#d8576b"
             ],
             [
              0.6666666666666666,
              "#ed7953"
             ],
             [
              0.7777777777777778,
              "#fb9f3a"
             ],
             [
              0.8888888888888888,
              "#fdca26"
             ],
             [
              1,
              "#f0f921"
             ]
            ],
            "type": "histogram2d"
           }
          ],
          "histogram2dcontour": [
           {
            "colorbar": {
             "outlinewidth": 0,
             "ticks": ""
            },
            "colorscale": [
             [
              0,
              "#0d0887"
             ],
             [
              0.1111111111111111,
              "#46039f"
             ],
             [
              0.2222222222222222,
              "#7201a8"
             ],
             [
              0.3333333333333333,
              "#9c179e"
             ],
             [
              0.4444444444444444,
              "#bd3786"
             ],
             [
              0.5555555555555556,
              "#d8576b"
             ],
             [
              0.6666666666666666,
              "#ed7953"
             ],
             [
              0.7777777777777778,
              "#fb9f3a"
             ],
             [
              0.8888888888888888,
              "#fdca26"
             ],
             [
              1,
              "#f0f921"
             ]
            ],
            "type": "histogram2dcontour"
           }
          ],
          "mesh3d": [
           {
            "colorbar": {
             "outlinewidth": 0,
             "ticks": ""
            },
            "type": "mesh3d"
           }
          ],
          "parcoords": [
           {
            "line": {
             "colorbar": {
              "outlinewidth": 0,
              "ticks": ""
             }
            },
            "type": "parcoords"
           }
          ],
          "pie": [
           {
            "automargin": true,
            "type": "pie"
           }
          ],
          "scatter": [
           {
            "fillpattern": {
             "fillmode": "overlay",
             "size": 10,
             "solidity": 0.2
            },
            "type": "scatter"
           }
          ],
          "scatter3d": [
           {
            "line": {
             "colorbar": {
              "outlinewidth": 0,
              "ticks": ""
             }
            },
            "marker": {
             "colorbar": {
              "outlinewidth": 0,
              "ticks": ""
             }
            },
            "type": "scatter3d"
           }
          ],
          "scattercarpet": [
           {
            "marker": {
             "colorbar": {
              "outlinewidth": 0,
              "ticks": ""
             }
            },
            "type": "scattercarpet"
           }
          ],
          "scattergeo": [
           {
            "marker": {
             "colorbar": {
              "outlinewidth": 0,
              "ticks": ""
             }
            },
            "type": "scattergeo"
           }
          ],
          "scattergl": [
           {
            "marker": {
             "colorbar": {
              "outlinewidth": 0,
              "ticks": ""
             }
            },
            "type": "scattergl"
           }
          ],
          "scattermapbox": [
           {
            "marker": {
             "colorbar": {
              "outlinewidth": 0,
              "ticks": ""
             }
            },
            "type": "scattermapbox"
           }
          ],
          "scatterpolar": [
           {
            "marker": {
             "colorbar": {
              "outlinewidth": 0,
              "ticks": ""
             }
            },
            "type": "scatterpolar"
           }
          ],
          "scatterpolargl": [
           {
            "marker": {
             "colorbar": {
              "outlinewidth": 0,
              "ticks": ""
             }
            },
            "type": "scatterpolargl"
           }
          ],
          "scatterternary": [
           {
            "marker": {
             "colorbar": {
              "outlinewidth": 0,
              "ticks": ""
             }
            },
            "type": "scatterternary"
           }
          ],
          "surface": [
           {
            "colorbar": {
             "outlinewidth": 0,
             "ticks": ""
            },
            "colorscale": [
             [
              0,
              "#0d0887"
             ],
             [
              0.1111111111111111,
              "#46039f"
             ],
             [
              0.2222222222222222,
              "#7201a8"
             ],
             [
              0.3333333333333333,
              "#9c179e"
             ],
             [
              0.4444444444444444,
              "#bd3786"
             ],
             [
              0.5555555555555556,
              "#d8576b"
             ],
             [
              0.6666666666666666,
              "#ed7953"
             ],
             [
              0.7777777777777778,
              "#fb9f3a"
             ],
             [
              0.8888888888888888,
              "#fdca26"
             ],
             [
              1,
              "#f0f921"
             ]
            ],
            "type": "surface"
           }
          ],
          "table": [
           {
            "cells": {
             "fill": {
              "color": "#EBF0F8"
             },
             "line": {
              "color": "white"
             }
            },
            "header": {
             "fill": {
              "color": "#C8D4E3"
             },
             "line": {
              "color": "white"
             }
            },
            "type": "table"
           }
          ]
         },
         "layout": {
          "annotationdefaults": {
           "arrowcolor": "#2a3f5f",
           "arrowhead": 0,
           "arrowwidth": 1
          },
          "autotypenumbers": "strict",
          "coloraxis": {
           "colorbar": {
            "outlinewidth": 0,
            "ticks": ""
           }
          },
          "colorscale": {
           "diverging": [
            [
             0,
             "#8e0152"
            ],
            [
             0.1,
             "#c51b7d"
            ],
            [
             0.2,
             "#de77ae"
            ],
            [
             0.3,
             "#f1b6da"
            ],
            [
             0.4,
             "#fde0ef"
            ],
            [
             0.5,
             "#f7f7f7"
            ],
            [
             0.6,
             "#e6f5d0"
            ],
            [
             0.7,
             "#b8e186"
            ],
            [
             0.8,
             "#7fbc41"
            ],
            [
             0.9,
             "#4d9221"
            ],
            [
             1,
             "#276419"
            ]
           ],
           "sequential": [
            [
             0,
             "#0d0887"
            ],
            [
             0.1111111111111111,
             "#46039f"
            ],
            [
             0.2222222222222222,
             "#7201a8"
            ],
            [
             0.3333333333333333,
             "#9c179e"
            ],
            [
             0.4444444444444444,
             "#bd3786"
            ],
            [
             0.5555555555555556,
             "#d8576b"
            ],
            [
             0.6666666666666666,
             "#ed7953"
            ],
            [
             0.7777777777777778,
             "#fb9f3a"
            ],
            [
             0.8888888888888888,
             "#fdca26"
            ],
            [
             1,
             "#f0f921"
            ]
           ],
           "sequentialminus": [
            [
             0,
             "#0d0887"
            ],
            [
             0.1111111111111111,
             "#46039f"
            ],
            [
             0.2222222222222222,
             "#7201a8"
            ],
            [
             0.3333333333333333,
             "#9c179e"
            ],
            [
             0.4444444444444444,
             "#bd3786"
            ],
            [
             0.5555555555555556,
             "#d8576b"
            ],
            [
             0.6666666666666666,
             "#ed7953"
            ],
            [
             0.7777777777777778,
             "#fb9f3a"
            ],
            [
             0.8888888888888888,
             "#fdca26"
            ],
            [
             1,
             "#f0f921"
            ]
           ]
          },
          "colorway": [
           "#636efa",
           "#EF553B",
           "#00cc96",
           "#ab63fa",
           "#FFA15A",
           "#19d3f3",
           "#FF6692",
           "#B6E880",
           "#FF97FF",
           "#FECB52"
          ],
          "font": {
           "color": "#2a3f5f"
          },
          "geo": {
           "bgcolor": "white",
           "lakecolor": "white",
           "landcolor": "#E5ECF6",
           "showlakes": true,
           "showland": true,
           "subunitcolor": "white"
          },
          "hoverlabel": {
           "align": "left"
          },
          "hovermode": "closest",
          "mapbox": {
           "style": "light"
          },
          "paper_bgcolor": "white",
          "plot_bgcolor": "#E5ECF6",
          "polar": {
           "angularaxis": {
            "gridcolor": "white",
            "linecolor": "white",
            "ticks": ""
           },
           "bgcolor": "#E5ECF6",
           "radialaxis": {
            "gridcolor": "white",
            "linecolor": "white",
            "ticks": ""
           }
          },
          "scene": {
           "xaxis": {
            "backgroundcolor": "#E5ECF6",
            "gridcolor": "white",
            "gridwidth": 2,
            "linecolor": "white",
            "showbackground": true,
            "ticks": "",
            "zerolinecolor": "white"
           },
           "yaxis": {
            "backgroundcolor": "#E5ECF6",
            "gridcolor": "white",
            "gridwidth": 2,
            "linecolor": "white",
            "showbackground": true,
            "ticks": "",
            "zerolinecolor": "white"
           },
           "zaxis": {
            "backgroundcolor": "#E5ECF6",
            "gridcolor": "white",
            "gridwidth": 2,
            "linecolor": "white",
            "showbackground": true,
            "ticks": "",
            "zerolinecolor": "white"
           }
          },
          "shapedefaults": {
           "line": {
            "color": "#2a3f5f"
           }
          },
          "ternary": {
           "aaxis": {
            "gridcolor": "white",
            "linecolor": "white",
            "ticks": ""
           },
           "baxis": {
            "gridcolor": "white",
            "linecolor": "white",
            "ticks": ""
           },
           "bgcolor": "#E5ECF6",
           "caxis": {
            "gridcolor": "white",
            "linecolor": "white",
            "ticks": ""
           }
          },
          "title": {
           "x": 0.05
          },
          "xaxis": {
           "automargin": true,
           "gridcolor": "white",
           "linecolor": "white",
           "ticks": "",
           "title": {
            "standoff": 15
           },
           "zerolinecolor": "white",
           "zerolinewidth": 2
          },
          "yaxis": {
           "automargin": true,
           "gridcolor": "white",
           "linecolor": "white",
           "ticks": "",
           "title": {
            "standoff": 15
           },
           "zerolinecolor": "white",
           "zerolinewidth": 2
          }
         }
        },
        "title": {
         "text": "以畢業為起點的完整事件序列桑基圖"
        }
       }
      }
     },
     "metadata": {},
     "output_type": "display_data"
    }
   ],
   "source": [
    "import pandas as pd\n",
    "import plotly.graph_objects as go\n",
    "\n",
    "# Step 1: 從Excel文件讀取數據\n",
    "file_path = 'CJM.xlsx'  # 替換為你的Excel文件的實際路徑\n",
    "df = pd.read_excel(file_path)\n",
    "\n",
    "# Step 2: 將數據按照 ID 和時間進行排序\n",
    "df['time'] = pd.to_datetime(df['time'])\n",
    "df = df.sort_values(by=['ID ', 'time'])\n",
    "\n",
    "# Step 3: 只保留從 '畢業' 開始的事件序列，但不止步於單一轉移，追踪完整事件流\n",
    "valid_transitions = []\n",
    "for i in range(1, len(df)):\n",
    "    if df.iloc[i-1]['ID '] == df.iloc[i]['ID ']:\n",
    "        # 找到每個 ID 的第一個 '畢業' 並追踪其後的所有事件\n",
    "        if '畢業' in df.iloc[i-1]['event'] or len(valid_transitions) > 0:\n",
    "            valid_transitions.append((df.iloc[i-1]['event'], df.iloc[i]['event']))\n",
    "\n",
    "# 將有效的轉移轉化為 DataFrame\n",
    "transitions_df = pd.DataFrame(valid_transitions, columns=['source', 'target'])\n",
    "transition_counts = transitions_df.value_counts().reset_index(name='count')\n",
    "\n",
    "# Step 4: 使用 plotly 繪製桑基圖\n",
    "# 準備桑基圖的數據\n",
    "all_labels = list(set(transition_counts['source']).union(set(transition_counts['target'])))\n",
    "label_index = {label: idx for idx, label in enumerate(all_labels)}\n",
    "\n",
    "sources = [label_index[source] for source in transition_counts['source']]\n",
    "targets = [label_index[target] for target in transition_counts['target']]\n",
    "values = transition_counts['count']\n",
    "\n",
    "# 繪製桑基圖\n",
    "fig = go.Figure(data=[go.Sankey(\n",
    "    node=dict(\n",
    "        pad=15,\n",
    "        thickness=20,\n",
    "        line=dict(color=\"black\", width=0.5),\n",
    "        label=all_labels,\n",
    "    ),\n",
    "    link=dict(\n",
    "        source=sources,\n",
    "        target=targets,\n",
    "        value=values\n",
    "    )\n",
    ")])\n",
    "\n",
    "fig.update_layout(title_text=\"以畢業為起點的完整事件序列桑基圖\", font_size=10)\n",
    "fig.show()\n"
   ]
  },
  {
   "cell_type": "code",
   "execution_count": 2,
   "metadata": {},
   "outputs": [
    {
     "name": "stdout",
     "output_type": "stream",
     "text": [
      "Collecting matplotlib\n",
      "  Downloading matplotlib-3.9.2-cp311-cp311-win_amd64.whl.metadata (11 kB)\n",
      "Collecting contourpy>=1.0.1 (from matplotlib)\n",
      "  Downloading contourpy-1.3.0-cp311-cp311-win_amd64.whl.metadata (5.4 kB)\n",
      "Collecting cycler>=0.10 (from matplotlib)\n",
      "  Downloading cycler-0.12.1-py3-none-any.whl.metadata (3.8 kB)\n",
      "Collecting fonttools>=4.22.0 (from matplotlib)\n",
      "  Downloading fonttools-4.54.0-cp311-cp311-win_amd64.whl.metadata (166 kB)\n",
      "Collecting kiwisolver>=1.3.1 (from matplotlib)\n",
      "  Downloading kiwisolver-1.4.7-cp311-cp311-win_amd64.whl.metadata (6.4 kB)\n",
      "Requirement already satisfied: numpy>=1.23 in c:\\users\\user\\appdata\\local\\pypoetry\\cache\\virtualenvs\\senpai-m2n-ytg9-py3.11\\lib\\site-packages (from matplotlib) (1.26.4)\n",
      "Requirement already satisfied: packaging>=20.0 in c:\\users\\user\\appdata\\local\\pypoetry\\cache\\virtualenvs\\senpai-m2n-ytg9-py3.11\\lib\\site-packages (from matplotlib) (24.1)\n",
      "Requirement already satisfied: pillow>=8 in c:\\users\\user\\appdata\\local\\pypoetry\\cache\\virtualenvs\\senpai-m2n-ytg9-py3.11\\lib\\site-packages (from matplotlib) (10.4.0)\n",
      "Requirement already satisfied: pyparsing>=2.3.1 in c:\\users\\user\\appdata\\local\\pypoetry\\cache\\virtualenvs\\senpai-m2n-ytg9-py3.11\\lib\\site-packages (from matplotlib) (3.1.2)\n",
      "Requirement already satisfied: python-dateutil>=2.7 in c:\\users\\user\\appdata\\local\\pypoetry\\cache\\virtualenvs\\senpai-m2n-ytg9-py3.11\\lib\\site-packages (from matplotlib) (2.9.0.post0)\n",
      "Requirement already satisfied: six>=1.5 in c:\\users\\user\\appdata\\local\\pypoetry\\cache\\virtualenvs\\senpai-m2n-ytg9-py3.11\\lib\\site-packages (from python-dateutil>=2.7->matplotlib) (1.16.0)\n",
      "Downloading matplotlib-3.9.2-cp311-cp311-win_amd64.whl (7.8 MB)\n",
      "   ---------------------------------------- 0.0/7.8 MB ? eta -:--:--\n",
      "   - -------------------------------------- 0.3/7.8 MB ? eta -:--:--\n",
      "   ----- ---------------------------------- 1.0/7.8 MB 3.0 MB/s eta 0:00:03\n",
      "   --------- ------------------------------ 1.8/7.8 MB 3.4 MB/s eta 0:00:02\n",
      "   ---------- ----------------------------- 2.1/7.8 MB 3.4 MB/s eta 0:00:02\n",
      "   ------------ --------------------------- 2.4/7.8 MB 2.3 MB/s eta 0:00:03\n",
      "   ------------ --------------------------- 2.4/7.8 MB 2.3 MB/s eta 0:00:03\n",
      "   ------------ --------------------------- 2.4/7.8 MB 2.3 MB/s eta 0:00:03\n",
      "   ------------- -------------------------- 2.6/7.8 MB 1.6 MB/s eta 0:00:04\n",
      "   -------------- ------------------------- 2.9/7.8 MB 1.5 MB/s eta 0:00:04\n",
      "   -------------- ------------------------- 2.9/7.8 MB 1.5 MB/s eta 0:00:04\n",
      "   ---------------- ----------------------- 3.1/7.8 MB 1.4 MB/s eta 0:00:04\n",
      "   ---------------- ----------------------- 3.1/7.8 MB 1.4 MB/s eta 0:00:04\n",
      "   ----------------- ---------------------- 3.4/7.8 MB 1.2 MB/s eta 0:00:04\n",
      "   ------------------ --------------------- 3.7/7.8 MB 1.2 MB/s eta 0:00:04\n",
      "   ------------------ --------------------- 3.7/7.8 MB 1.2 MB/s eta 0:00:04\n",
      "   ------------------ --------------------- 3.7/7.8 MB 1.2 MB/s eta 0:00:04\n",
      "   -------------------- ------------------- 3.9/7.8 MB 1.1 MB/s eta 0:00:04\n",
      "   -------------------- ------------------- 3.9/7.8 MB 1.1 MB/s eta 0:00:04\n",
      "   --------------------- ------------------ 4.2/7.8 MB 1.0 MB/s eta 0:00:04\n",
      "   --------------------- ------------------ 4.2/7.8 MB 1.0 MB/s eta 0:00:04\n",
      "   ---------------------- ----------------- 4.5/7.8 MB 994.1 kB/s eta 0:00:04\n",
      "   ------------------------ --------------- 4.7/7.8 MB 983.5 kB/s eta 0:00:04\n",
      "   ------------------------ --------------- 4.7/7.8 MB 983.5 kB/s eta 0:00:04\n",
      "   ------------------------ --------------- 4.7/7.8 MB 983.5 kB/s eta 0:00:04\n",
      "   ------------------------- -------------- 5.0/7.8 MB 923.6 kB/s eta 0:00:04\n",
      "   ------------------------- -------------- 5.0/7.8 MB 923.6 kB/s eta 0:00:04\n",
      "   -------------------------- ------------- 5.2/7.8 MB 885.5 kB/s eta 0:00:03\n",
      "   -------------------------- ------------- 5.2/7.8 MB 885.5 kB/s eta 0:00:03\n",
      "   -------------------------- ------------- 5.2/7.8 MB 885.5 kB/s eta 0:00:03\n",
      "   ---------------------------- ----------- 5.5/7.8 MB 841.0 kB/s eta 0:00:03\n",
      "   ---------------------------- ----------- 5.5/7.8 MB 841.0 kB/s eta 0:00:03\n",
      "   ---------------------------- ----------- 5.5/7.8 MB 841.0 kB/s eta 0:00:03\n",
      "   ----------------------------- ---------- 5.8/7.8 MB 802.6 kB/s eta 0:00:03\n",
      "   ----------------------------- ---------- 5.8/7.8 MB 802.6 kB/s eta 0:00:03\n",
      "   ------------------------------ --------- 6.0/7.8 MB 785.3 kB/s eta 0:00:03\n",
      "   ------------------------------ --------- 6.0/7.8 MB 785.3 kB/s eta 0:00:03\n",
      "   ------------------------------ --------- 6.0/7.8 MB 785.3 kB/s eta 0:00:03\n",
      "   -------------------------------- ------- 6.3/7.8 MB 770.2 kB/s eta 0:00:02\n",
      "   -------------------------------- ------- 6.3/7.8 MB 770.2 kB/s eta 0:00:02\n",
      "   --------------------------------- ------ 6.6/7.8 MB 764.1 kB/s eta 0:00:02\n",
      "   ---------------------------------- ----- 6.8/7.8 MB 768.2 kB/s eta 0:00:02\n",
      "   ---------------------------------- ----- 6.8/7.8 MB 768.2 kB/s eta 0:00:02\n",
      "   ------------------------------------ --- 7.1/7.8 MB 761.3 kB/s eta 0:00:01\n",
      "   ------------------------------------- -- 7.3/7.8 MB 761.3 kB/s eta 0:00:01\n",
      "   ------------------------------------- -- 7.3/7.8 MB 761.3 kB/s eta 0:00:01\n",
      "   -------------------------------------- - 7.6/7.8 MB 761.3 kB/s eta 0:00:01\n",
      "   -------------------------------------- - 7.6/7.8 MB 761.3 kB/s eta 0:00:01\n",
      "   ---------------------------------------- 7.8/7.8 MB 757.9 kB/s eta 0:00:00\n",
      "Downloading contourpy-1.3.0-cp311-cp311-win_amd64.whl (217 kB)\n",
      "Downloading cycler-0.12.1-py3-none-any.whl (8.3 kB)\n",
      "Downloading fonttools-4.54.0-cp311-cp311-win_amd64.whl (2.2 MB)\n",
      "   ---------------------------------------- 0.0/2.2 MB ? eta -:--:--\n",
      "   ---------------------------------------- 0.0/2.2 MB ? eta -:--:--\n",
      "   ---- ----------------------------------- 0.3/2.2 MB ? eta -:--:--\n",
      "   --------- ------------------------------ 0.5/2.2 MB 1.0 MB/s eta 0:00:02\n",
      "   --------- ------------------------------ 0.5/2.2 MB 1.0 MB/s eta 0:00:02\n",
      "   -------------- ------------------------- 0.8/2.2 MB 958.5 kB/s eta 0:00:02\n",
      "   -------------- ------------------------- 0.8/2.2 MB 958.5 kB/s eta 0:00:02\n",
      "   ------------------ --------------------- 1.0/2.2 MB 786.4 kB/s eta 0:00:02\n",
      "   ----------------------- ---------------- 1.3/2.2 MB 780.2 kB/s eta 0:00:02\n",
      "   ----------------------- ---------------- 1.3/2.2 MB 780.2 kB/s eta 0:00:02\n",
      "   ---------------------------- ----------- 1.6/2.2 MB 762.5 kB/s eta 0:00:01\n",
      "   ---------------------------- ----------- 1.6/2.2 MB 762.5 kB/s eta 0:00:01\n",
      "   --------------------------------- ------ 1.8/2.2 MB 768.4 kB/s eta 0:00:01\n",
      "   ------------------------------------- -- 2.1/2.2 MB 757.6 kB/s eta 0:00:01\n",
      "   ---------------------------------------- 2.2/2.2 MB 750.5 kB/s eta 0:00:00\n",
      "Downloading kiwisolver-1.4.7-cp311-cp311-win_amd64.whl (56 kB)\n",
      "Installing collected packages: kiwisolver, fonttools, cycler, contourpy, matplotlib\n",
      "Successfully installed contourpy-1.3.0 cycler-0.12.1 fonttools-4.54.0 kiwisolver-1.4.7 matplotlib-3.9.2\n",
      "Note: you may need to restart the kernel to use updated packages.\n"
     ]
    }
   ],
   "source": [
    "pip install matplotlib"
   ]
  },
  {
   "cell_type": "code",
   "execution_count": 6,
   "metadata": {},
   "outputs": [
    {
     "name": "stdout",
     "output_type": "stream",
     "text": [
      "Index(['ID ', 'time', 'event'], dtype='object')\n"
     ]
    }
   ],
   "source": [
    "import pandas as pd\n",
    "\n",
    "# 假設您已正確讀取 Excel 文件\n",
    "file_path = 'CJM.xlsx'  # 替換為你的Excel文件的實際路徑\n",
    "df = pd.read_excel(file_path)\n",
    "\n",
    "# 檢查列名\n",
    "print(df.columns)"
   ]
  },
  {
   "cell_type": "code",
   "execution_count": null,
   "metadata": {},
   "outputs": [],
   "source": [
    "\n"
   ]
  }
 ],
 "metadata": {
  "kernelspec": {
   "display_name": "senpai-m2n-YTg9-py3.11",
   "language": "python",
   "name": "python3"
  },
  "language_info": {
   "codemirror_mode": {
    "name": "ipython",
    "version": 3
   },
   "file_extension": ".py",
   "mimetype": "text/x-python",
   "name": "python",
   "nbconvert_exporter": "python",
   "pygments_lexer": "ipython3",
   "version": "3.11.9"
  }
 },
 "nbformat": 4,
 "nbformat_minor": 2
}
